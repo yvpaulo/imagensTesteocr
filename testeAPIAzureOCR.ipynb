{
  "nbformat": 4,
  "nbformat_minor": 0,
  "metadata": {
    "colab": {
      "name": "testeAPIAzureOCR.ipynb",
      "provenance": [],
      "collapsed_sections": [],
      "authorship_tag": "ABX9TyNstLKofJyBsn5GvqTywOKr",
      "include_colab_link": true
    },
    "kernelspec": {
      "name": "python3",
      "display_name": "Python 3"
    },
    "language_info": {
      "name": "python"
    }
  },
  "cells": [
    {
      "cell_type": "markdown",
      "metadata": {
        "id": "view-in-github",
        "colab_type": "text"
      },
      "source": [
        "<a href=\"https://colab.research.google.com/github/yvpaulo/imagensTesteocr/blob/main/testeAPIAzureOCR.ipynb\" target=\"_parent\"><img src=\"https://colab.research.google.com/assets/colab-badge.svg\" alt=\"Open In Colab\"/></a>"
      ]
    },
    {
      "cell_type": "code",
      "metadata": {
        "id": "zHW58VLlnFa_"
      },
      "source": [
        "#Documentação que usei:\n",
        "#https://docs.microsoft.com/pt-br/azure/cognitive-services/computer-vision/upgrade-api-versions\n",
        "# se quiser pegar imagens locais: https://github.com/Azure-Samples/cognitive-services-quickstart-code/blob/master/python/ComputerVision/ComputerVisionQuickstart.py\n",
        "# ou https://github.com/Azure-Samples/cognitive-services-quickstart-code/blob/master/python/ComputerVision/ExtractText.py"
      ],
      "execution_count": null,
      "outputs": []
    },
    {
      "cell_type": "code",
      "metadata": {
        "colab": {
          "base_uri": "https://localhost:8080/"
        },
        "id": "tW1vExREYcTZ",
        "outputId": "5e905253-7a2f-4963-a462-2c0b08bd9f28"
      },
      "source": [
        "pip install --upgrade azure-cognitiveservices-vision-computervision\n"
      ],
      "execution_count": 2,
      "outputs": [
        {
          "output_type": "stream",
          "text": [
            "Collecting azure-cognitiveservices-vision-computervision\n",
            "  Downloading https://files.pythonhosted.org/packages/f2/de/03ddaffabd541829394fb6ee4615f642ed1a14438b4543a01ad58f7d222e/azure_cognitiveservices_vision_computervision-0.7.0-py2.py3-none-any.whl\n",
            "Collecting msrest>=0.5.0\n",
            "\u001b[?25l  Downloading https://files.pythonhosted.org/packages/e8/cc/6c96bfb3d3cf4c3bdedfa6b46503223f4c2a4fa388377697e0f8082a4fed/msrest-0.6.21-py2.py3-none-any.whl (85kB)\n",
            "\u001b[K     |████████████████████████████████| 92kB 3.8MB/s \n",
            "\u001b[?25hCollecting azure-common~=1.1\n",
            "  Downloading https://files.pythonhosted.org/packages/9e/1e/cfe7987493242e8b9ead309cfd76fc500c38bbefe192192b813325d289f3/azure_common-1.1.27-py2.py3-none-any.whl\n",
            "Requirement already satisfied, skipping upgrade: requests~=2.16 in /usr/local/lib/python3.7/dist-packages (from msrest>=0.5.0->azure-cognitiveservices-vision-computervision) (2.23.0)\n",
            "Collecting isodate>=0.6.0\n",
            "\u001b[?25l  Downloading https://files.pythonhosted.org/packages/9b/9f/b36f7774ff5ea8e428fdcfc4bb332c39ee5b9362ddd3d40d9516a55221b2/isodate-0.6.0-py2.py3-none-any.whl (45kB)\n",
            "\u001b[K     |████████████████████████████████| 51kB 2.7MB/s \n",
            "\u001b[?25hRequirement already satisfied, skipping upgrade: requests-oauthlib>=0.5.0 in /usr/local/lib/python3.7/dist-packages (from msrest>=0.5.0->azure-cognitiveservices-vision-computervision) (1.3.0)\n",
            "Requirement already satisfied, skipping upgrade: certifi>=2017.4.17 in /usr/local/lib/python3.7/dist-packages (from msrest>=0.5.0->azure-cognitiveservices-vision-computervision) (2020.12.5)\n",
            "Requirement already satisfied, skipping upgrade: urllib3!=1.25.0,!=1.25.1,<1.26,>=1.21.1 in /usr/local/lib/python3.7/dist-packages (from requests~=2.16->msrest>=0.5.0->azure-cognitiveservices-vision-computervision) (1.24.3)\n",
            "Requirement already satisfied, skipping upgrade: chardet<4,>=3.0.2 in /usr/local/lib/python3.7/dist-packages (from requests~=2.16->msrest>=0.5.0->azure-cognitiveservices-vision-computervision) (3.0.4)\n",
            "Requirement already satisfied, skipping upgrade: idna<3,>=2.5 in /usr/local/lib/python3.7/dist-packages (from requests~=2.16->msrest>=0.5.0->azure-cognitiveservices-vision-computervision) (2.10)\n",
            "Requirement already satisfied, skipping upgrade: six in /usr/local/lib/python3.7/dist-packages (from isodate>=0.6.0->msrest>=0.5.0->azure-cognitiveservices-vision-computervision) (1.15.0)\n",
            "Requirement already satisfied, skipping upgrade: oauthlib>=3.0.0 in /usr/local/lib/python3.7/dist-packages (from requests-oauthlib>=0.5.0->msrest>=0.5.0->azure-cognitiveservices-vision-computervision) (3.1.0)\n",
            "Installing collected packages: isodate, msrest, azure-common, azure-cognitiveservices-vision-computervision\n",
            "Successfully installed azure-cognitiveservices-vision-computervision-0.7.0 azure-common-1.1.27 isodate-0.6.0 msrest-0.6.21\n"
          ],
          "name": "stdout"
        }
      ]
    },
    {
      "cell_type": "code",
      "metadata": {
        "colab": {
          "base_uri": "https://localhost:8080/"
        },
        "id": "8k7Jq_ugZgLW",
        "outputId": "ce1b00a4-c96e-4354-ccd0-14bfda05057b"
      },
      "source": [
        "pip install pillow"
      ],
      "execution_count": 3,
      "outputs": [
        {
          "output_type": "stream",
          "text": [
            "Requirement already satisfied: pillow in /usr/local/lib/python3.7/dist-packages (7.1.2)\n"
          ],
          "name": "stdout"
        }
      ]
    },
    {
      "cell_type": "code",
      "metadata": {
        "id": "cxaLfMSlYRvJ"
      },
      "source": [
        "# <snippet_imports_and_vars>\n",
        "# <snippet_imports>\n",
        "from azure.cognitiveservices.vision.computervision import ComputerVisionClient\n",
        "from azure.cognitiveservices.vision.computervision.models import OperationStatusCodes\n",
        "from azure.cognitiveservices.vision.computervision.models import VisualFeatureTypes\n",
        "from msrest.authentication import CognitiveServicesCredentials\n",
        "\n",
        "from array import array\n",
        "import os\n",
        "from PIL import Image\n",
        "import sys\n",
        "import time\n",
        "# </snippet_imports>"
      ],
      "execution_count": 4,
      "outputs": []
    },
    {
      "cell_type": "code",
      "metadata": {
        "id": "IWfFM2LFaVX1"
      },
      "source": [
        "\n",
        "#Authenticate\n",
        "#Authenticates your credentials and creates a client.\n",
        "\n",
        "# <snippet_vars>\n",
        "subscription_key = \"ed30bb7922504de8b7e549deb6fa1e51\"\n",
        "endpoint = \"https://testeocreveris.cognitiveservices.azure.com/\"\n",
        "# </snippet_vars>\n",
        "# </snippet_imports_and_vars>\n",
        "\n",
        "# <snippet_client>\n",
        "computervision_client = ComputerVisionClient(endpoint, CognitiveServicesCredentials(subscription_key))\n",
        "# </snippet_client>\n",
        "\n",
        "#END - Authenticate\n"
      ],
      "execution_count": 5,
      "outputs": []
    },
    {
      "cell_type": "code",
      "metadata": {
        "colab": {
          "base_uri": "https://localhost:8080/"
        },
        "id": "B5jHATH2bmCd",
        "outputId": "a26c3ad2-91bb-425c-d61e-cf46e82ddd43"
      },
      "source": [
        "'''\n",
        "Batch Read File, recognize handwritten text - remote\n",
        "This example will extract handwritten text in an image, then print results, line by line.\n",
        "This API call can also recognize handwriting (not shown).\n",
        "'''\n",
        "print(\"===== Batch Read File - remote =====\")\n",
        "# Get an image with handwritten text\n",
        "remote_image_handw_text_url = \"https://i.pinimg.com/originals/7e/5a/90/7e5a90b5a500caccd95a2a3572678fff.jpg\"\n",
        "\n",
        "# Call API with URL and raw response (allows you to get the operation location)\n",
        "recognize_handw_results = computervision_client.read(remote_image_handw_text_url,  raw=True)"
      ],
      "execution_count": 16,
      "outputs": [
        {
          "output_type": "stream",
          "text": [
            "===== Batch Read File - remote =====\n"
          ],
          "name": "stdout"
        }
      ]
    },
    {
      "cell_type": "code",
      "metadata": {
        "colab": {
          "base_uri": "https://localhost:8080/"
        },
        "id": "uoaqySgrbmOM",
        "outputId": "08437bb7-12be-499e-9772-b85e8f328f02"
      },
      "source": [
        "# Get the operation location (URL with an ID at the end) from the response\n",
        "operation_location_remote = recognize_handw_results.headers[\"Operation-Location\"]\n",
        "# Grab the ID from the URL\n",
        "operation_id = operation_location_remote.split(\"/\")[-1]\n",
        "\n",
        "# Call the \"GET\" API and wait for it to retrieve the results \n",
        "while True:\n",
        "    get_handw_text_results = computervision_client.get_read_result(operation_id)\n",
        "    if get_handw_text_results.status not in ['notStarted', 'running']:\n",
        "        break\n",
        "    time.sleep(1)\n",
        "\n",
        "# Print the detected text, line by line\n",
        "\n",
        "if get_handw_text_results.status == OperationStatusCodes.succeeded:\n",
        "    for text_result in get_handw_text_results.analyze_result.read_results:\n",
        "        for line in text_result.lines:\n",
        "            print(line.text)\n",
        "            print(line.bounding_box)\n",
        "            \n",
        "#print(get_handw_text_results)\n",
        "print(\"create \"+get_handw_text_results.created_date_time)\n",
        "print(\"laste update \"+get_handw_text_results.last_updated_date_time)\n",
        "\n",
        "print()"
      ],
      "execution_count": 29,
      "outputs": [
        {
          "output_type": "stream",
          "text": [
            "GARRAFA\n",
            "[233.0, 139.0, 387.0, 140.0, 386.0, 173.0, 232.0, 171.0]\n",
            "create 2021-04-06T18:35:35Z\n",
            "laste update 2021-04-06T18:35:35Z\n",
            "\n"
          ],
          "name": "stdout"
        }
      ]
    }
  ]
}