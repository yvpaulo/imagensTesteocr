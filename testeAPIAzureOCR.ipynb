{
  "nbformat": 4,
  "nbformat_minor": 0,
  "metadata": {
    "colab": {
      "name": "testeAPIAzureOCR.ipynb",
      "provenance": [],
      "authorship_tag": "ABX9TyO/pLtSIwwX9OL0ET7nf3EJ",
      "include_colab_link": true
    },
    "kernelspec": {
      "name": "python3",
      "display_name": "Python 3"
    },
    "language_info": {
      "name": "python"
    }
  },
  "cells": [
    {
      "cell_type": "markdown",
      "metadata": {
        "id": "view-in-github",
        "colab_type": "text"
      },
      "source": [
        "<a href=\"https://colab.research.google.com/github/yvpaulo/imagensTesteocr/blob/main/testeAPIAzureOCR.ipynb\" target=\"_parent\"><img src=\"https://colab.research.google.com/assets/colab-badge.svg\" alt=\"Open In Colab\"/></a>"
      ]
    },
    {
      "cell_type": "code",
      "metadata": {
        "colab": {
          "base_uri": "https://localhost:8080/"
        },
        "id": "tW1vExREYcTZ",
        "outputId": "5e905253-7a2f-4963-a462-2c0b08bd9f28"
      },
      "source": [
        "pip install --upgrade azure-cognitiveservices-vision-computervision\n"
      ],
      "execution_count": 2,
      "outputs": [
        {
          "output_type": "stream",
          "text": [
            "Collecting azure-cognitiveservices-vision-computervision\n",
            "  Downloading https://files.pythonhosted.org/packages/f2/de/03ddaffabd541829394fb6ee4615f642ed1a14438b4543a01ad58f7d222e/azure_cognitiveservices_vision_computervision-0.7.0-py2.py3-none-any.whl\n",
            "Collecting msrest>=0.5.0\n",
            "\u001b[?25l  Downloading https://files.pythonhosted.org/packages/e8/cc/6c96bfb3d3cf4c3bdedfa6b46503223f4c2a4fa388377697e0f8082a4fed/msrest-0.6.21-py2.py3-none-any.whl (85kB)\n",
            "\u001b[K     |████████████████████████████████| 92kB 3.8MB/s \n",
            "\u001b[?25hCollecting azure-common~=1.1\n",
            "  Downloading https://files.pythonhosted.org/packages/9e/1e/cfe7987493242e8b9ead309cfd76fc500c38bbefe192192b813325d289f3/azure_common-1.1.27-py2.py3-none-any.whl\n",
            "Requirement already satisfied, skipping upgrade: requests~=2.16 in /usr/local/lib/python3.7/dist-packages (from msrest>=0.5.0->azure-cognitiveservices-vision-computervision) (2.23.0)\n",
            "Collecting isodate>=0.6.0\n",
            "\u001b[?25l  Downloading https://files.pythonhosted.org/packages/9b/9f/b36f7774ff5ea8e428fdcfc4bb332c39ee5b9362ddd3d40d9516a55221b2/isodate-0.6.0-py2.py3-none-any.whl (45kB)\n",
            "\u001b[K     |████████████████████████████████| 51kB 2.7MB/s \n",
            "\u001b[?25hRequirement already satisfied, skipping upgrade: requests-oauthlib>=0.5.0 in /usr/local/lib/python3.7/dist-packages (from msrest>=0.5.0->azure-cognitiveservices-vision-computervision) (1.3.0)\n",
            "Requirement already satisfied, skipping upgrade: certifi>=2017.4.17 in /usr/local/lib/python3.7/dist-packages (from msrest>=0.5.0->azure-cognitiveservices-vision-computervision) (2020.12.5)\n",
            "Requirement already satisfied, skipping upgrade: urllib3!=1.25.0,!=1.25.1,<1.26,>=1.21.1 in /usr/local/lib/python3.7/dist-packages (from requests~=2.16->msrest>=0.5.0->azure-cognitiveservices-vision-computervision) (1.24.3)\n",
            "Requirement already satisfied, skipping upgrade: chardet<4,>=3.0.2 in /usr/local/lib/python3.7/dist-packages (from requests~=2.16->msrest>=0.5.0->azure-cognitiveservices-vision-computervision) (3.0.4)\n",
            "Requirement already satisfied, skipping upgrade: idna<3,>=2.5 in /usr/local/lib/python3.7/dist-packages (from requests~=2.16->msrest>=0.5.0->azure-cognitiveservices-vision-computervision) (2.10)\n",
            "Requirement already satisfied, skipping upgrade: six in /usr/local/lib/python3.7/dist-packages (from isodate>=0.6.0->msrest>=0.5.0->azure-cognitiveservices-vision-computervision) (1.15.0)\n",
            "Requirement already satisfied, skipping upgrade: oauthlib>=3.0.0 in /usr/local/lib/python3.7/dist-packages (from requests-oauthlib>=0.5.0->msrest>=0.5.0->azure-cognitiveservices-vision-computervision) (3.1.0)\n",
            "Installing collected packages: isodate, msrest, azure-common, azure-cognitiveservices-vision-computervision\n",
            "Successfully installed azure-cognitiveservices-vision-computervision-0.7.0 azure-common-1.1.27 isodate-0.6.0 msrest-0.6.21\n"
          ],
          "name": "stdout"
        }
      ]
    },
    {
      "cell_type": "code",
      "metadata": {
        "colab": {
          "base_uri": "https://localhost:8080/"
        },
        "id": "8k7Jq_ugZgLW",
        "outputId": "ce1b00a4-c96e-4354-ccd0-14bfda05057b"
      },
      "source": [
        "pip install pillow"
      ],
      "execution_count": 3,
      "outputs": [
        {
          "output_type": "stream",
          "text": [
            "Requirement already satisfied: pillow in /usr/local/lib/python3.7/dist-packages (7.1.2)\n"
          ],
          "name": "stdout"
        }
      ]
    },
    {
      "cell_type": "code",
      "metadata": {
        "id": "cxaLfMSlYRvJ"
      },
      "source": [
        "# <snippet_imports_and_vars>\n",
        "# <snippet_imports>\n",
        "from azure.cognitiveservices.vision.computervision import ComputerVisionClient\n",
        "from azure.cognitiveservices.vision.computervision.models import OperationStatusCodes\n",
        "from azure.cognitiveservices.vision.computervision.models import VisualFeatureTypes\n",
        "from msrest.authentication import CognitiveServicesCredentials\n",
        "\n",
        "from array import array\n",
        "import os\n",
        "from PIL import Image\n",
        "import sys\n",
        "import time\n",
        "# </snippet_imports>"
      ],
      "execution_count": 4,
      "outputs": []
    },
    {
      "cell_type": "code",
      "metadata": {
        "id": "IWfFM2LFaVX1"
      },
      "source": [
        "\n",
        "#Authenticate\n",
        "#Authenticates your credentials and creates a client.\n",
        "\n",
        "# <snippet_vars>\n",
        "subscription_key = \"ed30bb7922504de8b7e549deb6fa1e51\"\n",
        "endpoint = \"https://testeocreveris.cognitiveservices.azure.com/\"\n",
        "# </snippet_vars>\n",
        "# </snippet_imports_and_vars>\n",
        "\n",
        "# <snippet_client>\n",
        "computervision_client = ComputerVisionClient(endpoint, CognitiveServicesCredentials(subscription_key))\n",
        "# </snippet_client>\n",
        "\n",
        "#END - Authenticate\n"
      ],
      "execution_count": 5,
      "outputs": []
    },
    {
      "cell_type": "code",
      "metadata": {
        "colab": {
          "base_uri": "https://localhost:8080/"
        },
        "id": "B5jHATH2bmCd",
        "outputId": "92a06942-f442-4fac-8e3a-de00b8db24bc"
      },
      "source": [
        "'''\n",
        "Batch Read File, recognize handwritten text - remote\n",
        "This example will extract handwritten text in an image, then print results, line by line.\n",
        "This API call can also recognize handwriting (not shown).\n",
        "'''\n",
        "print(\"===== Batch Read File - remote =====\")\n",
        "# Get an image with handwritten text\n",
        "remote_image_handw_text_url = \"https://i.pinimg.com/originals/4d/f2/c4/4df2c4dba6efe149dcfbc95abfd06200.jpg\"\n",
        "\n",
        "# Call API with URL and raw response (allows you to get the operation location)\n",
        "recognize_handw_results = computervision_client.read(remote_image_handw_text_url,  raw=True)"
      ],
      "execution_count": 8,
      "outputs": [
        {
          "output_type": "stream",
          "text": [
            "===== Batch Read File - remote =====\n"
          ],
          "name": "stdout"
        }
      ]
    },
    {
      "cell_type": "code",
      "metadata": {
        "colab": {
          "base_uri": "https://localhost:8080/"
        },
        "id": "uoaqySgrbmOM",
        "outputId": "f5fe64ff-37b9-4407-f1d6-7a2a8bcc9eb2"
      },
      "source": [
        "# Get the operation location (URL with an ID at the end) from the response\n",
        "operation_location_remote = recognize_handw_results.headers[\"Operation-Location\"]\n",
        "# Grab the ID from the URL\n",
        "operation_id = operation_location_remote.split(\"/\")[-1]\n",
        "\n",
        "# Call the \"GET\" API and wait for it to retrieve the results \n",
        "while True:\n",
        "    get_handw_text_results = computervision_client.get_read_result(operation_id)\n",
        "    if get_handw_text_results.status not in ['notStarted', 'running']:\n",
        "        break\n",
        "    time.sleep(1)\n",
        "\n",
        "# Print the detected text, line by line\n",
        "if get_handw_text_results.status == OperationStatusCodes.succeeded:\n",
        "    for text_result in get_handw_text_results.analyze_result.read_results:\n",
        "        for line in text_result.lines:\n",
        "            print(line.text)\n",
        "            print(line.bounding_box)\n",
        "print()"
      ],
      "execution_count": 9,
      "outputs": [
        {
          "output_type": "stream",
          "text": [
            "R$\n",
            "[11.0, 13.0, 37.0, 13.0, 38.0, 30.0, 11.0, 30.0]\n",
            "5,50\n",
            "[33.0, 19.0, 258.0, 24.0, 258.0, 83.0, 33.0, 98.0]\n",
            "GARRAFA\n",
            "[164.0, 87.0, 269.0, 87.0, 269.0, 110.0, 164.0, 110.0]\n",
            "\n"
          ],
          "name": "stdout"
        }
      ]
    }
  ]
}